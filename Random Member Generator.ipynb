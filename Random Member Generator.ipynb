{
 "cells": [
  {
   "cell_type": "markdown",
   "metadata": {},
   "source": [
    "## Random Member Generator"
   ]
  },
  {
   "cell_type": "markdown",
   "metadata": {},
   "source": [
    "### Imports"
   ]
  },
  {
   "cell_type": "code",
   "execution_count": 1,
   "metadata": {},
   "outputs": [],
   "source": [
    "import pandas as pd                 # this is a dataframe library\n",
    "import matplotlib.pyplot as plt     # plots data\n",
    "import numpy as np                  # provides N-dim Object support\n",
    "from random import randint          # to calculate a random integer value"
   ]
  },
  {
   "cell_type": "code",
   "execution_count": 2,
   "metadata": {},
   "outputs": [],
   "source": [
    "df = pd.read_csv(\"./member_roster_06_07_2020.csv\")      # Load Pima data. Adjust path as necessary"
   ]
  },
  {
   "cell_type": "code",
   "execution_count": 3,
   "metadata": {
    "scrolled": true
   },
   "outputs": [
    {
     "data": {
      "text/html": [
       "<div>\n",
       "<style scoped>\n",
       "    .dataframe tbody tr th:only-of-type {\n",
       "        vertical-align: middle;\n",
       "    }\n",
       "\n",
       "    .dataframe tbody tr th {\n",
       "        vertical-align: top;\n",
       "    }\n",
       "\n",
       "    .dataframe thead th {\n",
       "        text-align: right;\n",
       "    }\n",
       "</style>\n",
       "<table border=\"1\" class=\"dataframe\">\n",
       "  <thead>\n",
       "    <tr style=\"text-align: right;\">\n",
       "      <th></th>\n",
       "      <th>Last Name</th>\n",
       "      <th>First Name</th>\n",
       "      <th>Informal First Name</th>\n",
       "      <th>Account #</th>\n",
       "      <th>Member Status</th>\n",
       "      <th>Pledge Date</th>\n",
       "      <th>Initiation Date</th>\n",
       "    </tr>\n",
       "  </thead>\n",
       "  <tbody>\n",
       "    <tr>\n",
       "      <th>0</th>\n",
       "      <td>Abel</td>\n",
       "      <td>Jack</td>\n",
       "      <td>Jack</td>\n",
       "      <td>1440426</td>\n",
       "      <td>Active - Good Standing</td>\n",
       "      <td>09/09/2019</td>\n",
       "      <td>11/10/2019</td>\n",
       "    </tr>\n",
       "    <tr>\n",
       "      <th>1</th>\n",
       "      <td>Adams</td>\n",
       "      <td>Trent</td>\n",
       "      <td>Trent</td>\n",
       "      <td>1440410</td>\n",
       "      <td>Active - Good Standing</td>\n",
       "      <td>09/09/2019</td>\n",
       "      <td>11/10/2019</td>\n",
       "    </tr>\n",
       "    <tr>\n",
       "      <th>2</th>\n",
       "      <td>Akabane</td>\n",
       "      <td>Reyn</td>\n",
       "      <td>Reyn</td>\n",
       "      <td>1318003</td>\n",
       "      <td>Active - Good Standing</td>\n",
       "      <td>08/27/2018</td>\n",
       "      <td>11/04/2018</td>\n",
       "    </tr>\n",
       "    <tr>\n",
       "      <th>3</th>\n",
       "      <td>Alexander</td>\n",
       "      <td>Matthew</td>\n",
       "      <td>Matthew</td>\n",
       "      <td>1317991</td>\n",
       "      <td>Active - Good Standing</td>\n",
       "      <td>08/27/2018</td>\n",
       "      <td>11/04/2018</td>\n",
       "    </tr>\n",
       "    <tr>\n",
       "      <th>4</th>\n",
       "      <td>Austin</td>\n",
       "      <td>Jack</td>\n",
       "      <td>Jack</td>\n",
       "      <td>1440350</td>\n",
       "      <td>Active - Good Standing</td>\n",
       "      <td>09/09/2019</td>\n",
       "      <td>11/10/2019</td>\n",
       "    </tr>\n",
       "  </tbody>\n",
       "</table>\n",
       "</div>"
      ],
      "text/plain": [
       "   Last Name First Name Informal First Name  Account #  \\\n",
       "0       Abel       Jack                Jack    1440426   \n",
       "1      Adams      Trent               Trent    1440410   \n",
       "2    Akabane       Reyn                Reyn    1318003   \n",
       "3  Alexander    Matthew             Matthew    1317991   \n",
       "4     Austin       Jack                Jack    1440350   \n",
       "\n",
       "            Member Status Pledge Date Initiation Date  \n",
       "0  Active - Good Standing  09/09/2019      11/10/2019  \n",
       "1  Active - Good Standing  09/09/2019      11/10/2019  \n",
       "2  Active - Good Standing  08/27/2018      11/04/2018  \n",
       "3  Active - Good Standing  08/27/2018      11/04/2018  \n",
       "4  Active - Good Standing  09/09/2019      11/10/2019  "
      ]
     },
     "execution_count": 3,
     "metadata": {},
     "output_type": "execute_result"
    }
   ],
   "source": [
    "df.head()"
   ]
  },
  {
   "cell_type": "markdown",
   "metadata": {},
   "source": [
    "### Top 5 people in the list ^"
   ]
  },
  {
   "cell_type": "markdown",
   "metadata": {},
   "source": [
    "### Calculate random number"
   ]
  },
  {
   "cell_type": "code",
   "execution_count": 4,
   "metadata": {},
   "outputs": [],
   "source": [
    "random_integer = randint(0,len(df))"
   ]
  },
  {
   "cell_type": "code",
   "execution_count": 5,
   "metadata": {
    "scrolled": true
   },
   "outputs": [
    {
     "name": "stdout",
     "output_type": "stream",
     "text": [
      "Random number is: 56\n"
     ]
    }
   ],
   "source": [
    "print(\"Random number is:\", random_integer)"
   ]
  },
  {
   "cell_type": "markdown",
   "metadata": {},
   "source": [
    "### *Random Member*"
   ]
  },
  {
   "cell_type": "code",
   "execution_count": 6,
   "metadata": {
    "scrolled": true
   },
   "outputs": [
    {
     "name": "stdout",
     "output_type": "stream",
     "text": [
      "Last Name                              Marchi\n",
      "First Name                           Nicholas\n",
      "Informal First Name                      Nick\n",
      "Account #                             1440355\n",
      "Member Status          Active - Good Standing\n",
      "Pledge Date                        09/09/2019\n",
      "Initiation Date                    11/10/2019\n",
      "Name: 56, dtype: object\n"
     ]
    }
   ],
   "source": [
    "print(df.loc[random_integer])"
   ]
  },
  {
   "cell_type": "code",
   "execution_count": null,
   "metadata": {},
   "outputs": [],
   "source": []
  }
 ],
 "metadata": {
  "kernelspec": {
   "display_name": "Python 3",
   "language": "python",
   "name": "python3"
  },
  "language_info": {
   "codemirror_mode": {
    "name": "ipython",
    "version": 3
   },
   "file_extension": ".py",
   "mimetype": "text/x-python",
   "name": "python",
   "nbconvert_exporter": "python",
   "pygments_lexer": "ipython3",
   "version": "3.7.6"
  }
 },
 "nbformat": 4,
 "nbformat_minor": 4
}
